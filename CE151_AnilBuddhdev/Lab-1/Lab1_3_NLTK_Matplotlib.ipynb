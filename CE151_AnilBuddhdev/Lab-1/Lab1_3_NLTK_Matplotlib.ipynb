{
  "nbformat": 4,
  "nbformat_minor": 0,
  "metadata": {
    "colab": {
      "name": "Lab1_3_NLTK_Matplotlib.ipynb",
      "provenance": [],
      "collapsed_sections": [],
      "include_colab_link": true
    },
    "kernelspec": {
      "name": "python3",
      "display_name": "Python 3"
    },
    "language_info": {
      "name": "python"
    }
  },
  "cells": [
    {
      "cell_type": "markdown",
      "metadata": {
        "id": "view-in-github",
        "colab_type": "text"
      },
      "source": [
        "<a href=\"https://colab.research.google.com/github/IggyJiggy/CE151_AnilBuddhdev/blob/main/Lab1_3_NLTK_Matplotlib.ipynb\" target=\"_parent\"><img src=\"https://colab.research.google.com/assets/colab-badge.svg\" alt=\"Open In Colab\"/></a>"
      ]
    },
    {
      "cell_type": "code",
      "metadata": {
        "id": "ClUDLeld0mmX"
      },
      "source": [
        "import nltk\n",
        "import matplotlib.pyplot as plt\n",
        "import pandas as pd"
      ],
      "execution_count": 1,
      "outputs": []
    },
    {
      "cell_type": "code",
      "metadata": {
        "colab": {
          "base_uri": "https://localhost:8080/"
        },
        "id": "qC2wSG_k3AxJ",
        "outputId": "58897a3e-31ca-4778-f188-c98ba6c22ac5"
      },
      "source": [
        "my_text = \"Veni.Vidi.Vici.\"\n",
        "\n",
        "import re\n",
        "import string\n",
        "from nltk.corpus import stopwords\n",
        "from nltk.stem import PorterStemmer\n",
        "from nltk.tokenize import TweetTokenizer\n",
        "\n",
        "remove_link = re.sub(r'https?:\\/\\/.*[\\r\\n]*', '', my_text)\n",
        "remove_link = re.sub(r'#', '', remove_link)\n",
        "print(remove_link)"
      ],
      "execution_count": 4,
      "outputs": [
        {
          "output_type": "stream",
          "name": "stdout",
          "text": [
            "Veni.Vidi.Vici.\n"
          ]
        }
      ]
    },
    {
      "cell_type": "code",
      "metadata": {
        "colab": {
          "base_uri": "https://localhost:8080/"
        },
        "id": "z8GIT7jn3-7i",
        "outputId": "16d21b8d-5abd-4adf-a1a5-c1160f17c84f"
      },
      "source": [
        "\n",
        "from nltk.tokenize import sent_tokenize\n",
        "text=\"Non est ad astra mollis e terris via\"\n",
        "nltk.download(\"punkt\")\n",
        "tokenized_text=sent_tokenize(text)\n",
        "print(tokenized_text)"
      ],
      "execution_count": 5,
      "outputs": [
        {
          "output_type": "stream",
          "name": "stdout",
          "text": [
            "[nltk_data] Downloading package punkt to /root/nltk_data...\n",
            "[nltk_data]   Package punkt is already up-to-date!\n",
            "['Non est ad astra mollis e terris via']\n"
          ]
        }
      ]
    },
    {
      "cell_type": "code",
      "metadata": {
        "colab": {
          "base_uri": "https://localhost:8080/"
        },
        "id": "0CcgGxwp4ZyN",
        "outputId": "66d5c256-19c5-4e1e-a053-c1132dcd7183"
      },
      "source": [
        "from nltk.tokenize import word_tokenize\n",
        "tokenized_word=word_tokenize(text)\n",
        "print(tokenized_word)"
      ],
      "execution_count": 6,
      "outputs": [
        {
          "output_type": "stream",
          "name": "stdout",
          "text": [
            "['Non', 'est', 'ad', 'astra', 'mollis', 'e', 'terris', 'via']\n"
          ]
        }
      ]
    },
    {
      "cell_type": "code",
      "metadata": {
        "colab": {
          "base_uri": "https://localhost:8080/",
          "height": 299
        },
        "id": "qtRYoviI49I-",
        "outputId": "3a54ed47-e1f0-48d2-8b7d-eda3812851be"
      },
      "source": [
        "# Frequency Distribution\n",
        "from nltk.probability import FreqDist\n",
        "fdist = FreqDist(tokenized_word)\n",
        "fdist.most_common(4)\n",
        "import matplotlib.pyplot as plt\n",
        "fdist.plot(30, cumulative = False, color = \"green\")\n",
        "plt.show()"
      ],
      "execution_count": 7,
      "outputs": [
        {
          "output_type": "display_data",
          "data": {
            "image/png": "[encoded data removed]",
            "text/plain": [
              "<Figure size 432x288 with 1 Axes>"
            ]
          },
          "metadata": {
            "needs_background": "light"
          }
        }
      ]
    },
    {
      "cell_type": "code",
      "metadata": {
        "colab": {
          "base_uri": "https://localhost:8080/"
        },
        "id": "-OMF15QE5HvM",
        "outputId": "b3d9e145-4980-43dd-85a7-a495e50cb597"
      },
      "source": [
        "# stop words\n",
        "from nltk.corpus import stopwords\n",
        "nltk.download(\"stopwords\")\n",
        "stop_words = set(stopwords.words(\"english\"))\n",
        "print(stop_words)"
      ],
      "execution_count": 8,
      "outputs": [
        {
          "output_type": "stream",
          "name": "stdout",
          "text": [
            "[nltk_data] Downloading package stopwords to /root/nltk_data...\n",
            "[nltk_data]   Unzipping corpora/stopwords.zip.\n",
            "{'ours', 'at', 'its', 'hers', 'these', 'a', 'herself', 'own', \"don't\", 'doesn', 'just', 'before', 'those', 'theirs', 'or', 'to', 'mightn', 'were', 'here', \"isn't\", 'most', 'why', 'aren', 'an', 'not', 'as', 'my', \"wasn't\", 'that', 'for', 'isn', 'both', \"you'll\", 'what', 'each', \"didn't\", 'haven', 'are', 'themselves', 'was', 'didn', \"hasn't\", 'they', 'with', 'other', 'there', 'some', 'am', 'then', 'whom', 'have', 'while', 'can', 'won', 'her', 'shouldn', \"it's\", 'down', 'same', 'me', 'do', 'yours', 'll', 'don', 'o', 'couldn', 'ourselves', 'doing', \"you've\", \"mustn't\", \"won't\", 'when', 'needn', 'she', 'we', 'our', 'once', 'very', 'is', 'd', 'any', \"haven't\", 'his', 'he', 'such', 'against', \"doesn't\", 'mustn', 'too', 'how', 'by', 'had', 'below', 'over', 've', 'of', 'until', 'where', \"weren't\", 'now', \"you're\", 'through', 'on', 'ma', 'your', 'itself', 'again', 'yourselves', 'few', 'about', 'above', 'all', 'off', 'y', 'i', 'should', 'up', 'has', 'himself', 'myself', 'you', 'their', 'under', \"mightn't\", 'from', 'further', \"shouldn't\", 'm', \"wouldn't\", 'so', 'shan', 'him', 're', 'ain', 'after', 'weren', 'it', 'but', 't', \"needn't\", \"she's\", 'and', 'hadn', 'the', 'wasn', 's', 'having', \"aren't\", \"that'll\", \"couldn't\", 'if', 'no', 'who', \"you'd\", \"hadn't\", 'which', 'been', 'into', 'more', \"shan't\", 'being', 'wouldn', 'yourself', 'them', 'this', 'be', 'does', 'nor', 'during', 'will', 'because', 'out', 'hasn', 'in', 'than', 'between', 'did', 'only', \"should've\"}\n"
          ]
        }
      ]
    },
    {
      "cell_type": "code",
      "metadata": {
        "colab": {
          "base_uri": "https://localhost:8080/"
        },
        "id": "KY_aW4kn5WHT",
        "outputId": "cbd9eb24-3494-4d4f-aca7-c295484ddc10"
      },
      "source": [
        "filtered_sent=[]\n",
        "for w in tokenized_word:\n",
        "    if w not in stop_words:\n",
        "        filtered_sent.append(w)\n",
        "print(\"Tokenized Sentence:\",tokenized_word)\n",
        "print(\"Filterd Sentence:\",filtered_sent)"
      ],
      "execution_count": 9,
      "outputs": [
        {
          "output_type": "stream",
          "name": "stdout",
          "text": [
            "Tokenized Sentence: ['Non', 'est', 'ad', 'astra', 'mollis', 'e', 'terris', 'via']\n",
            "Filterd Sentence: ['Non', 'est', 'ad', 'astra', 'mollis', 'e', 'terris', 'via']\n"
          ]
        }
      ]
    },
    {
      "cell_type": "code",
      "metadata": {
        "colab": {
          "base_uri": "https://localhost:8080/"
        },
        "id": "ikNiApII5xhM",
        "outputId": "d8c34632-ead8-4a00-fa9e-a574a5031d9f"
      },
      "source": [
        "from nltk.stem import PorterStemmer\n",
        "from nltk.tokenize import sent_tokenize, word_tokenize\n",
        "\n",
        "ps = PorterStemmer()\n",
        "\n",
        "stemmed_words=[]\n",
        "for w in filtered_sent:\n",
        "    stemmed_words.append(ps.stem(w))\n",
        "\n",
        "print(\"Filtered Sentence:\",filtered_sent)\n",
        "print(\"Stemmed Sentence:\",stemmed_words)"
      ],
      "execution_count": 10,
      "outputs": [
        {
          "output_type": "stream",
          "name": "stdout",
          "text": [
            "Filtered Sentence: ['Non', 'est', 'ad', 'astra', 'mollis', 'e', 'terris', 'via']\n",
            "Stemmed Sentence: ['non', 'est', 'ad', 'astra', 'molli', 'e', 'terri', 'via']\n"
          ]
        }
      ]
    },
    {
      "cell_type": "code",
      "metadata": {
        "colab": {
          "base_uri": "https://localhost:8080/"
        },
        "id": "Q-U8ithe6Gv8",
        "outputId": "b1bf627f-441e-450e-867d-93737916c16d"
      },
      "source": [
        "#Lexicon Normalization\n",
        "\n",
        "from nltk.stem.wordnet import WordNetLemmatizer\n",
        "nltk.download('wordnet')\n",
        "lem = WordNetLemmatizer()\n",
        "\n",
        "from nltk.stem.porter import PorterStemmer\n",
        "stem = PorterStemmer()\n",
        "\n",
        "word = \"fleeing\"\n",
        "print(\"Lemmatized Word:\",lem.lemmatize(word, \"v\"))\n",
        "print(\"Stemmed Word:\",stem.stem(word))"
      ],
      "execution_count": 12,
      "outputs": [
        {
          "output_type": "stream",
          "name": "stdout",
          "text": [
            "[nltk_data] Downloading package wordnet to /root/nltk_data...\n",
            "[nltk_data]   Package wordnet is already up-to-date!\n",
            "Lemmatized Word: flee\n",
            "Stemmed Word: flee\n"
          ]
        }
      ]
    }
  ]
}